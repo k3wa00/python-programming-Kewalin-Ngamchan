{
 "cells": [
  {
   "cell_type": "code",
   "execution_count": null,
   "metadata": {},
   "outputs": [],
   "source": [
    "# uppgift 1 \n",
    "\n",
    "#Use a for statement to count from:\n",
    "\n",
    " # a)   -10 to 10 with one increment (*)\n",
    "\n",
    "x = 11\n",
    "\n",
    "for x in range(-10, 11):\n",
    "    print(x)\n",
    "\n"
   ]
  },
  {
   "cell_type": "code",
   "execution_count": null,
   "metadata": {},
   "outputs": [],
   "source": [
    "  # b)   -10 to 10 with two increment (*)\n",
    "\n",
    "x = -10, 11, 2\n",
    "\n",
    "for x in range(-10, 11,2):\n",
    "    print (x)"
   ]
  },
  {
   "cell_type": "code",
   "execution_count": null,
   "metadata": {},
   "outputs": [],
   "source": [
    "# uppgift 3 \n",
    "\n",
    "# Use for statement(s) to:\n",
    "\n",
    "#  a)   print out the 6th multiplication table from 0 to 10 (*)\n",
    "\n",
    "for x in range(11):\n",
    "    print(f\"6 * {x} = {6 * x}\")\n",
    "\n"
   ]
  },
  {
   "cell_type": "code",
   "execution_count": null,
   "metadata": {},
   "outputs": [],
   "source": [
    "# uppgift 3 \n",
    "# b) let the user input the table, start and end of the table\n",
    "\n",
    "user1 = int(input(\"vilken multiplikationstabell vill du se?: \\n\"))\n",
    "user2 = int(input(\"Specifiera startvärde: \\n\"))\n",
    "user3 = int(input(\"Specifiera slutvärdet: \\n\"))\n",
    "\n",
    "\n",
    "for x in range(user2, user3 + 1):\n",
    "    print(f\"{user1} * {x} = {user1* x}\")"
   ]
  },
  {
   "cell_type": "code",
   "execution_count": null,
   "metadata": {},
   "outputs": [],
   "source": [
    "# uppgift 3\n",
    "\n",
    "#   c)   print out a full multiplication table from 0 to 10. (**)\n",
    "\n",
    "for i in range(11):\n",
    "    for x in range(11):\n",
    "        print(f\"{i * x:4}\", end= '' )"
   ]
  },
  {
   "cell_type": "code",
   "execution_count": null,
   "metadata": {},
   "outputs": [],
   "source": [
    "## random uppgift \n",
    "user1 = int(input(\"kan du ge mig ett heltal?: \\n\"))\n",
    "user2 = int(input(\"hur många gånger vill du summera det?: \\n\"))\n",
    "\n",
    "summa = 0 #initiera summan\n",
    "\n",
    "for x in range(user2):    #antal loop från användaren\n",
    "    summa += user1 #lägger till heltal i summan\n",
    "    print(f\"{summa - user1} - {user1} = {summa}\") #printar ut \n",
    "    \n"
   ]
  },
  {
   "cell_type": "code",
   "execution_count": null,
   "metadata": {},
   "outputs": [],
   "source": [
    "# uppgift 4 \n",
    "# Use a for statement to compute n!\n",
    "\n",
    "# n - 1 * n \n",
    "\n",
    "user = int(input(\"skriv in ett heltal: \\n\"))\n",
    "\n",
    "factorial = 1 \n",
    "\n",
    "for i in range(1, user + 1):\n",
    "    factorial *= i\n",
    "\n",
    "print(f\"{user}! = {factorial}\")\n"
   ]
  },
  {
   "cell_type": "code",
   "execution_count": null,
   "metadata": {},
   "outputs": [],
   "source": [
    "# uppgift 5\n",
    "# The computer thinks of a four-digit number. \n",
    "# Start by creating a random four-digit number. \n",
    "# Use for statement to figure out a correct guess\n",
    "\n",
    "\n",
    "\n",
    "ratt_nummer = 2000\n",
    "\n",
    "for i in range(1000, 10000):\n",
    "    if i == ratt_nummer:\n",
    "        print(f\"Rätt nummer är {i}\")\n",
    "        break\n"
   ]
  },
  {
   "cell_type": "code",
   "execution_count": 46,
   "metadata": {},
   "outputs": [
    {
     "name": "stdout",
     "output_type": "stream",
     "text": [
      "Antal riskorn på schackbrädet är:  18446744073709551615\n"
     ]
    }
   ],
   "source": [
    "# uppgift 6 \n",
    "\n",
    "a = 1\n",
    "r = 2 \n",
    "n = 64 \n",
    "\n",
    "summan = a * (r**n - 1) // (r - 1)\n",
    "\n",
    "print (f\"Antal riskorn på schackbrädet är:  {summan}\")\n",
    "\n"
   ]
  }
 ],
 "metadata": {
  "kernelspec": {
   "display_name": "base",
   "language": "python",
   "name": "python3"
  },
  "language_info": {
   "codemirror_mode": {
    "name": "ipython",
    "version": 3
   },
   "file_extension": ".py",
   "mimetype": "text/x-python",
   "name": "python",
   "nbconvert_exporter": "python",
   "pygments_lexer": "ipython3",
   "version": "3.9.7"
  }
 },
 "nbformat": 4,
 "nbformat_minor": 2
}
