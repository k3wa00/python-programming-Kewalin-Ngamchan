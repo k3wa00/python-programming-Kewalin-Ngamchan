{
 "cells": [
  {
   "cell_type": "code",
   "execution_count": 5,
   "metadata": {},
   "outputs": [
    {
     "name": "stdout",
     "output_type": "stream",
     "text": [
      "5.0\n"
     ]
    }
   ],
   "source": [
    "# exercise 00\n",
    "\n",
    "# uppgift a \n",
    "\n",
    "import math\n",
    "\n",
    "a = 3 \n",
    "b = 4\n",
    "\n",
    "kvadratsumma = (a ** 2 ) + (b ** 2)\n",
    "\n",
    "hypotenusa = math.sqrt(kvadratsumma) \n",
    "\n",
    "print (hypotenusa)\n",
    "\n",
    "# uppgift b \n",
    "\n",
    "\n"
   ]
  }
 ],
 "metadata": {
  "kernelspec": {
   "display_name": "base",
   "language": "python",
   "name": "python3"
  },
  "language_info": {
   "codemirror_mode": {
    "name": "ipython",
    "version": 3
   },
   "file_extension": ".py",
   "mimetype": "text/x-python",
   "name": "python",
   "nbconvert_exporter": "python",
   "pygments_lexer": "ipython3",
   "version": "3.9.7"
  }
 },
 "nbformat": 4,
 "nbformat_minor": 2
}
