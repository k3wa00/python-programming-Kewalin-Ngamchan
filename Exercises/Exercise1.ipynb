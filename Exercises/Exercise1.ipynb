{
 "cells": [
  {
   "cell_type": "code",
   "execution_count": null,
   "id": "15ca27c4",
   "metadata": {},
   "outputs": [],
   "source": [
    "# uppgift 1 \n",
    "\n",
    "#Ask the user to input a number and check if this number is positive, negative or zero and print it.\n",
    "\n",
    "nummer = int(input (\"skriv in ett nummer: \\n\"))\n",
    "\n",
    "if nummer  > 0:\n",
    "    print(\"Ditt nummer är positivt\")\n",
    "elif nummer < 0:\n",
    "    print(\"Ditt nummer är negativt\")\n",
    "else:\n",
    "    print(\"Ditt nummer är noll\")\n"
   ]
  },
  {
   "cell_type": "code",
   "execution_count": 16,
   "id": "b23360f7",
   "metadata": {},
   "outputs": [
    {
     "name": "stdout",
     "output_type": "stream",
     "text": [
      "tal 2 är minst\n",
      "10 4\n"
     ]
    }
   ],
   "source": [
    "# uppgift 2\n",
    "\n",
    "#Ask the user to input two numbers and check which one is the smallest and print it out.\n",
    "\n",
    "num1 = int(input(\"skriv in ett nummer: \\n\"))\n",
    "num2 = int(input(\"skriv in ett till nummer: \\n\"))\n",
    "\n",
    "if num1 > num2:\n",
    "    print(\"tal 2 är minst\", num2 )\n",
    "elif num1 < num2:\n",
    "    print(\"tal 1 är minst\", num1)\n",
    "else:\n",
    "    print(\"båda talen är lika\")\n",
    "\n",
    "print(num1, num2)\n",
    "\n"
   ]
  },
  {
   "cell_type": "code",
   "execution_count": null,
   "id": "b19293d3",
   "metadata": {},
   "outputs": [],
   "source": [
    "# uppgfit 3 \n",
    "\n",
    "# Ask the user to input three angles and check if the triangle has a right angle. \n",
    "# Your code should make sure that all three angles are valid and make up a triangle.\n",
    "\n",
    "a = int(input(\"skriv in a: \"))\n",
    "b = int(input(\"skriv in b: \"))\n",
    "c = int(input(\"skriv in c: \"))\n",
    "\n",
    "if a > 0 and b > 0 and c > 0 and ( a + b + c == 180 ):\n",
    "    print (\"giltig vinkel för traingel\")\n",
    "    \n",
    "    if a == 90 or b == 90 or c == 90:\n",
    "        print(\"Bra, en av vinklarna är 90\")\n",
    "    else: \n",
    "        print(\"Invalid! Inga vinklar är 90\")\n",
    "else: \n",
    "    print(\"!Ogiltig triangel\")\n"
   ]
  },
  {
   "cell_type": "code",
   "execution_count": 27,
   "id": "eb601950",
   "metadata": {},
   "outputs": [
    {
     "name": "stdout",
     "output_type": "stream",
     "text": [
      "du ska ta 1-2 piller\n"
     ]
    }
   ],
   "source": [
    "# uppgift 4 \n",
    "\n",
    "# The information in the following table is stated in a medicine package. \n",
    "# Also it is stated that for children weight is more important than age.\n",
    "\n",
    "age = int(input(\"Ange din ålder: \\n\"))\n",
    "weight = int(input(\"Ange din vikt i kg:\\n\"))\n",
    "\n",
    "if age > 12:\n",
    "    print(\"du ska ta 1-2 piller\")\n",
    "elif age <= 12 and weight > 26:\n",
    "    print(\"du ska ta 1/2- 1 piller\")\n",
    "else:\n",
    "    print(\"du ska ta 1/2 piller\")\n",
    "\n",
    "\n"
   ]
  },
  {
   "cell_type": "code",
   "execution_count": 30,
   "id": "41ec2fb4",
   "metadata": {},
   "outputs": [
    {
     "name": "stdout",
     "output_type": "stream",
     "text": [
      "5  är ett jämnt tal\n",
      "5 numret är delbart med 5 och är udda\n",
      "5 är delbart med 5 är och är udda.\n"
     ]
    }
   ],
   "source": [
    "# uppgift 5\n",
    "\n",
    "# Let the user input a number. Check if the number is\n",
    "\n",
    "#  even or odd\n",
    "#  is divisible by 5\n",
    "#  is divisble by 5 and odd\n",
    "\n",
    "x = int(input(\"skriv in ett nummer\"))\n",
    "\n",
    "if x % 2 == 0:\n",
    "    print(x, \" är ett udda tal\")\n",
    "else:\n",
    "    print(x, \" är ett jämnt tal\")\n",
    "\n",
    "if x % 5 == 0:\n",
    "    print(x, \"numret är delbart med 5 och är udda\")\n",
    "else:\n",
    "    print(x, \"numret är inte delbart med 5\")\n",
    "\n",
    "if x % 5 == 0 and x % 2 != 0:\n",
    "    print(x, \"är delbart med 5 är och är udda.\")\n",
    "else:\n",
    "    print(x, \"är inte delbart med 5 och/eller är inte udda\")"
   ]
  },
  {
   "cell_type": "code",
   "execution_count": 32,
   "id": "6110e0a5",
   "metadata": {},
   "outputs": [
    {
     "ename": "ValueError",
     "evalue": "invalid literal for int() with base 10: ''",
     "output_type": "error",
     "traceback": [
      "\u001b[0;31m---------------------------------------------------------------------------\u001b[0m",
      "\u001b[0;31mValueError\u001b[0m                                Traceback (most recent call last)",
      "\u001b[0;32m/var/folders/fz/s_0rjb9s1094lg593k0x_8vh0000gn/T/ipykernel_4617/541589650.py\u001b[0m in \u001b[0;36m<module>\u001b[0;34m\u001b[0m\n\u001b[1;32m      5\u001b[0m \u001b[0;34m\u001b[0m\u001b[0m\n\u001b[1;32m      6\u001b[0m \u001b[0mweight\u001b[0m \u001b[0;34m=\u001b[0m \u001b[0mint\u001b[0m\u001b[0;34m(\u001b[0m\u001b[0minput\u001b[0m \u001b[0;34m(\u001b[0m\u001b[0;34m\"skriv in vikt för ditt bagage:\\n\"\u001b[0m\u001b[0;34m)\u001b[0m\u001b[0;34m)\u001b[0m\u001b[0;34m\u001b[0m\u001b[0;34m\u001b[0m\u001b[0m\n\u001b[0;32m----> 7\u001b[0;31m \u001b[0mlängd\u001b[0m \u001b[0;34m=\u001b[0m \u001b[0mint\u001b[0m\u001b[0;34m(\u001b[0m\u001b[0minput\u001b[0m\u001b[0;34m(\u001b[0m\u001b[0;34m\"skriv in längd: \\n\"\u001b[0m\u001b[0;34m)\u001b[0m\u001b[0;34m)\u001b[0m\u001b[0;34m\u001b[0m\u001b[0;34m\u001b[0m\u001b[0m\n\u001b[0m\u001b[1;32m      8\u001b[0m \u001b[0mbredd\u001b[0m \u001b[0;34m=\u001b[0m \u001b[0mint\u001b[0m\u001b[0;34m(\u001b[0m\u001b[0minput\u001b[0m\u001b[0;34m(\u001b[0m\u001b[0;34m\"skriv in bredden: \\n\"\u001b[0m\u001b[0;34m)\u001b[0m\u001b[0;34m)\u001b[0m\u001b[0;34m\u001b[0m\u001b[0;34m\u001b[0m\u001b[0m\n\u001b[1;32m      9\u001b[0m \u001b[0mhöjd\u001b[0m \u001b[0;34m=\u001b[0m \u001b[0mint\u001b[0m\u001b[0;34m(\u001b[0m\u001b[0minput\u001b[0m\u001b[0;34m(\u001b[0m\u001b[0;34m\"skriv in höjden: \\n\"\u001b[0m\u001b[0;34m)\u001b[0m\u001b[0;34m)\u001b[0m\u001b[0;34m\u001b[0m\u001b[0;34m\u001b[0m\u001b[0m\n",
      "\u001b[0;31mValueError\u001b[0m: invalid literal for int() with base 10: ''"
     ]
    }
   ],
   "source": [
    "# uppgift 6\n",
    "\n",
    "#Let the user input weight, length, width and height of the luggage. \n",
    "# The program should check if the luggage is allowed or not.\n",
    "\n",
    "weight = int(input (\"skriv in vikt för ditt bagage:\\n\"))\n",
    "längd = int(input(\"skriv in längd: \\n\"))\n",
    "bredd = int(input(\"skriv in bredden: \\n\"))\n",
    "höjd = int(input(\"skriv in höjden: \\n\"))\n",
    "\n",
    "if längd > 55:\n",
    "    print(\"ditt bagage är för stort!\")\n",
    "else:\n",
    "    print(\"godkänd längd.\")\n",
    "\n",
    "if bredd > 40:\n",
    "    print(\"bredden är för stort!\")\n",
    "else:\n",
    "    print(\"godkänd bredd.\")\n",
    "\n",
    "if höjd > 23:\n",
    "    print(\"höjden är för högt!\")\n",
    "else:\n",
    "    print(\"godkänd höjd\")\n",
    "\n"
   ]
  }
 ],
 "metadata": {
  "kernelspec": {
   "display_name": "Python 3 (ipykernel)",
   "language": "python",
   "name": "python3"
  },
  "language_info": {
   "codemirror_mode": {
    "name": "ipython",
    "version": 3
   },
   "file_extension": ".py",
   "mimetype": "text/x-python",
   "name": "python",
   "nbconvert_exporter": "python",
   "pygments_lexer": "ipython3",
   "version": "3.9.7"
  }
 },
 "nbformat": 4,
 "nbformat_minor": 5
}
