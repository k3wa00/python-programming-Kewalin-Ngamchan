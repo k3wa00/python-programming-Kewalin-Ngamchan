{
 "cells": [
  {
   "cell_type": "code",
   "execution_count": null,
   "metadata": {},
   "outputs": [],
   "source": [
    "# Listor\n",
    "\n",
    "# random uppgift \n",
    "\n",
    "frukt = [\"äpple\", \"banan\", \"jordgubbe\"]  # vanlig lista \n",
    "frukt.append(\"vindruvor\")   # lägg till \n",
    "frukt.remove(\"äpple\")      # ta bort \n",
    "antal = len(frukt)   # antal \n",
    "print(frukt)\n",
    "print(antal)\n"
   ]
  },
  {
   "cell_type": "code",
   "execution_count": 17,
   "metadata": {},
   "outputs": [
    {
     "name": "stdout",
     "output_type": "stream",
     "text": [
      "[1, 1, 2, 2, 3, 3, 3, 4, 6, 6]\n"
     ]
    }
   ],
   "source": [
    "# Dice rolls \n",
    "# uppgift 1\n",
    "\n",
    "# a) sort the list in ascending order (*)\n",
    "\n",
    "import random\n",
    " \n",
    "rolls = [random.randint(1, 6) for _ in range(10)]\n",
    "\n",
    "rolls.sort()\n",
    "\n",
    "print(rolls)\n",
    "\n"
   ]
  },
  {
   "cell_type": "code",
   "execution_count": 28,
   "metadata": {},
   "outputs": [
    {
     "name": "stdout",
     "output_type": "stream",
     "text": [
      "[6, 5, 4, 4, 4, 3, 2, 2, 2, 1]\n"
     ]
    }
   ],
   "source": [
    "# uppgift 1\n",
    "\n",
    "# b) \n",
    "import random \n",
    "\n",
    "rolls = [random.randint(1, 6) for _ in range(10)]\n",
    "\n",
    "rolls.sort(reverse=True) \n",
    "\n",
    "print(rolls)\n",
    "\n"
   ]
  },
  {
   "cell_type": "code",
   "execution_count": null,
   "metadata": {},
   "outputs": [],
   "source": [
    "# uppgift 1\n",
    "\n",
    "# c \n",
    "\n",
    "import random \n",
    "\n",
    "rolls = [random.randint(1, 6) for _ in range(10)]\n",
    "\n",
    "min_v = min(rolls)\n",
    "max_v = max(rolls)\n",
    "\n",
    "print(rolls)\n",
    "print(f\"minsta value\", min_v )\n",
    "print(f\"max value\", max_v)\n",
    "\n"
   ]
  },
  {
   "cell_type": "code",
   "execution_count": null,
   "metadata": {},
   "outputs": [],
   "source": [
    "# uppgift 2 Food menu \n",
    "\n",
    "mat = [\"vegetarisk lasange\", \"spaghetti\" , \"fisk\", \"grönsakssoppa\", \"pannkakor\"]\n",
    "veckodagar = [\"måndag\", \"tisdag\", \"onsdag\", \"torsdag\", \"fredag\"]\n",
    "\n",
    "print(\"Bambameny \\n\")\n",
    "for dag, matratt in zip(veckodagar, mat):\n",
    "    print(f\"{dag}: {matratt}\")\n"
   ]
  },
  {
   "cell_type": "code",
   "execution_count": 45,
   "metadata": {},
   "outputs": [
    {
     "name": "stdout",
     "output_type": "stream",
     "text": [
      "[100, 81, 64, 49, 36, 25, 16, 9, 4, 1, 0, 1, 4, 9, 16, 25, 36, 49, 64, 81, 100]\n"
     ]
    },
    {
     "data": {
      "image/png": "[encoded data removed]",
      "text/plain": [
       "<Figure size 432x288 with 1 Axes>"
      ]
     },
     "metadata": {
      "needs_background": "light"
     },
     "output_type": "display_data"
    }
   ],
   "source": [
    "# uppgift 3 \n",
    "\n",
    "siffror = [x**2 for x in range(-10,11)]\n",
    "print(siffror)\n",
    "\n",
    "import matplotlib.pyplot as plt \n",
    "x_values = range(-10, 11)\n",
    "siffror = [x**2 for x in x_values]\n",
    "\n",
    "plt.plot(x_values, siffror)\n",
    "plt.title(\"Kvadrater från -10 till 10\")\n",
    "plt.xlabel(\"x-värden\")\n",
    "plt.ylabel(\"Kvadrat av x\")\n",
    "plt.grid()\n",
    "plt.show()\n"
   ]
  }
 ],
 "metadata": {
  "kernelspec": {
   "display_name": "base",
   "language": "python",
   "name": "python3"
  },
  "language_info": {
   "codemirror_mode": {
    "name": "ipython",
    "version": 3
   },
   "file_extension": ".py",
   "mimetype": "text/x-python",
   "name": "python",
   "nbconvert_exporter": "python",
   "pygments_lexer": "ipython3",
   "version": "3.9.7"
  }
 },
 "nbformat": 4,
 "nbformat_minor": 2
}
