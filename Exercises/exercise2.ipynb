{
 "cells": [
  {
   "cell_type": "code",
   "execution_count": null,
   "metadata": {},
   "outputs": [],
   "source": [
    "#Use a while statement to count from -10 to 10 with one increment.\n",
    "\n",
    "#uppgift 1 \n",
    "\n",
    "count = -11 \n",
    "\n",
    "while True:\n",
    "    count +=1\n",
    "    print(count)\n",
    "\n",
    "    if count == 10:\n",
    "        break \n"
   ]
  },
  {
   "cell_type": "code",
   "execution_count": null,
   "metadata": {},
   "outputs": [],
   "source": [
    "# uppgift 2 a \n",
    "\n",
    "sum = 0\n",
    "count = 1\n",
    "\n",
    "while (count <= 100):\n",
    "    sum += count\n",
    "    count +=1 \n",
    "    print(sum)\n"
   ]
  },
  {
   "cell_type": "code",
   "execution_count": null,
   "metadata": {},
   "outputs": [],
   "source": [
    "# uppgift 2 b \n",
    "\n",
    "sum = 0 \n",
    "count = 1 \n",
    "\n",
    "while (count <= 99):\n",
    "    sum += count\n",
    "    count += 2\n",
    "    print(sum)"
   ]
  },
  {
   "cell_type": "code",
   "execution_count": null,
   "metadata": {},
   "outputs": [],
   "source": [
    "# uppgift 3 a\n",
    "\n",
    "import random\n",
    "\n",
    "num = [i for i in range(1, 101)]\n",
    "\n",
    "random_num = random.choice(num)\n",
    "\n",
    "while True:\n",
    "        user = int(input(\"Skriv in ett nummer mellan 1 och 100: \\n\"))\n",
    "\n",
    "\n",
    "        if user == random_num:\n",
    "            print(\"Grattis! Du gissade rätt nummer :) \\n\")\n",
    "            break\n",
    "        else:\n",
    "            print(\"Fel! Försök igen.\")\n",
    "\n",
    "# uppgift 3 b \n",
    "\n",
    "import random\n",
    "\n",
    "num = [i for i in range(1, 101)]\n",
    "\n",
    "right_num = 75 \n",
    "\n",
    "random_num = random.choice(num)\n",
    "\n",
    "\n",
    "\n"
   ]
  }
 ],
 "metadata": {
  "kernelspec": {
   "display_name": "base",
   "language": "python",
   "name": "python3"
  },
  "language_info": {
   "codemirror_mode": {
    "name": "ipython",
    "version": 3
   },
   "file_extension": ".py",
   "mimetype": "text/x-python",
   "name": "python",
   "nbconvert_exporter": "python",
   "pygments_lexer": "ipython3",
   "version": "3.9.7"
  }
 },
 "nbformat": 4,
 "nbformat_minor": 2
}
